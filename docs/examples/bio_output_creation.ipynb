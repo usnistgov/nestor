{
 "cells": [
  {
   "cell_type": "markdown",
   "metadata": {},
   "source": [
    "# Output tags in IOB format for NER analysis\n",
    "### Make function that takes a vocab list and a set of MWOs and returns MWOs in bio format\n",
    "#### TODO: Handle SI, PI\n",
    "\n",
    "#### https://pythonprogramming.net/using-bio-tags-create-named-entity-lists/"
   ]
  },
  {
   "cell_type": "code",
   "execution_count": 26,
   "metadata": {},
   "outputs": [],
   "source": [
    "import pandas as pd\n",
    "from pathlib import Path\n",
    "import nestor\n",
    "# from nestor import keyword as kex\n",
    "# from nestor.datasets as nd"
   ]
  },
  {
   "cell_type": "code",
   "execution_count": 27,
   "metadata": {},
   "outputs": [
    {
     "data": {
      "text/html": [
       "<div>\n",
       "<style scoped>\n",
       "    .dataframe tbody tr th:only-of-type {\n",
       "        vertical-align: middle;\n",
       "    }\n",
       "\n",
       "    .dataframe tbody tr th {\n",
       "        vertical-align: top;\n",
       "    }\n",
       "\n",
       "    .dataframe thead th {\n",
       "        text-align: right;\n",
       "    }\n",
       "</style>\n",
       "<table border=\"1\" class=\"dataframe\">\n",
       "  <thead>\n",
       "    <tr style=\"text-align: right;\">\n",
       "      <th></th>\n",
       "      <th>StartDate</th>\n",
       "      <th>Asset</th>\n",
       "      <th>OriginalShorttext</th>\n",
       "      <th>PMType</th>\n",
       "      <th>Cost</th>\n",
       "    </tr>\n",
       "  </thead>\n",
       "  <tbody>\n",
       "    <tr>\n",
       "      <th>0</th>\n",
       "      <td>2004-07-01</td>\n",
       "      <td>A</td>\n",
       "      <td>BUCKET WON'T OPEN</td>\n",
       "      <td>PM01</td>\n",
       "      <td>183.05</td>\n",
       "    </tr>\n",
       "    <tr>\n",
       "      <th>1</th>\n",
       "      <td>2005-03-20</td>\n",
       "      <td>A</td>\n",
       "      <td>L/H BUCKET CYL LEAKING.</td>\n",
       "      <td>PM01</td>\n",
       "      <td>407.4</td>\n",
       "    </tr>\n",
       "    <tr>\n",
       "      <th>2</th>\n",
       "      <td>2006-05-05</td>\n",
       "      <td>A</td>\n",
       "      <td>SWAP BUCKET</td>\n",
       "      <td>PM01</td>\n",
       "      <td>0</td>\n",
       "    </tr>\n",
       "    <tr>\n",
       "      <th>3</th>\n",
       "      <td>2006-07-11</td>\n",
       "      <td>A</td>\n",
       "      <td>FIT BUCKET TOOTH</td>\n",
       "      <td>PM01</td>\n",
       "      <td>0</td>\n",
       "    </tr>\n",
       "    <tr>\n",
       "      <th>4</th>\n",
       "      <td>2006-11-10</td>\n",
       "      <td>A</td>\n",
       "      <td>REFIT BUCKET TOOTH</td>\n",
       "      <td>PM01</td>\n",
       "      <td>1157.27</td>\n",
       "    </tr>\n",
       "  </tbody>\n",
       "</table>\n",
       "</div>"
      ],
      "text/plain": [
       "   StartDate Asset        OriginalShorttext PMType     Cost\n",
       "0 2004-07-01     A        BUCKET WON'T OPEN   PM01   183.05\n",
       "1 2005-03-20     A  L/H BUCKET CYL LEAKING.   PM01    407.4\n",
       "2 2006-05-05     A              SWAP BUCKET   PM01        0\n",
       "3 2006-07-11     A         FIT BUCKET TOOTH   PM01        0\n",
       "4 2006-11-10     A       REFIT BUCKET TOOTH   PM01  1157.27"
      ]
     },
     "execution_count": 27,
     "metadata": {},
     "output_type": "execute_result"
    }
   ],
   "source": [
    "# Get raw MWOs\n",
    "df = (nd.load_excavators(cleaned=False)  # already formats dates\n",
    "      .rename(columns={'BscStartDate': 'StartDate'})\n",
    "      )\n",
    "\n",
    "# Change date column to DateTime objects\n",
    "df.head(5)"
   ]
  },
  {
   "cell_type": "code",
   "execution_count": 28,
   "metadata": {},
   "outputs": [
    {
     "data": {
      "text/html": [
       "<div>\n",
       "<style scoped>\n",
       "    .dataframe tbody tr th:only-of-type {\n",
       "        vertical-align: middle;\n",
       "    }\n",
       "\n",
       "    .dataframe tbody tr th {\n",
       "        vertical-align: top;\n",
       "    }\n",
       "\n",
       "    .dataframe thead th {\n",
       "        text-align: right;\n",
       "    }\n",
       "</style>\n",
       "<table border=\"1\" class=\"dataframe\">\n",
       "  <thead>\n",
       "    <tr style=\"text-align: right;\">\n",
       "      <th></th>\n",
       "      <th>tokens</th>\n",
       "      <th>NE</th>\n",
       "      <th>alias</th>\n",
       "      <th>notes</th>\n",
       "      <th>score</th>\n",
       "    </tr>\n",
       "  </thead>\n",
       "  <tbody>\n",
       "    <tr>\n",
       "      <th>0</th>\n",
       "      <td>replace</td>\n",
       "      <td>S</td>\n",
       "      <td>replace</td>\n",
       "      <td>NaN</td>\n",
       "      <td>0.033502</td>\n",
       "    </tr>\n",
       "    <tr>\n",
       "      <th>1</th>\n",
       "      <td>bucket</td>\n",
       "      <td>I</td>\n",
       "      <td>bucket</td>\n",
       "      <td>NaN</td>\n",
       "      <td>0.018969</td>\n",
       "    </tr>\n",
       "    <tr>\n",
       "      <th>2</th>\n",
       "      <td>repair</td>\n",
       "      <td>S</td>\n",
       "      <td>repair</td>\n",
       "      <td>NaN</td>\n",
       "      <td>0.017499</td>\n",
       "    </tr>\n",
       "    <tr>\n",
       "      <th>3</th>\n",
       "      <td>grease</td>\n",
       "      <td>I</td>\n",
       "      <td>grease</td>\n",
       "      <td>NaN</td>\n",
       "      <td>0.017377</td>\n",
       "    </tr>\n",
       "    <tr>\n",
       "      <th>4</th>\n",
       "      <td>leak</td>\n",
       "      <td>P</td>\n",
       "      <td>leak</td>\n",
       "      <td>NaN</td>\n",
       "      <td>0.016591</td>\n",
       "    </tr>\n",
       "  </tbody>\n",
       "</table>\n",
       "</div>"
      ],
      "text/plain": [
       "    tokens NE    alias notes     score\n",
       "0  replace  S  replace   NaN  0.033502\n",
       "1   bucket  I   bucket   NaN  0.018969\n",
       "2   repair  S   repair   NaN  0.017499\n",
       "3   grease  I   grease   NaN  0.017377\n",
       "4     leak  P     leak   NaN  0.016591"
      ]
     },
     "execution_count": 28,
     "metadata": {},
     "output_type": "execute_result"
    }
   ],
   "source": [
    "# Get tagged MWOs\n",
    "tags = pd.read_csv(Path.home()/'Documents'/'datasets'/'1g_original.csv')\n",
    "tags.head(5)"
   ]
  },
  {
   "cell_type": "code",
   "execution_count": 29,
   "metadata": {},
   "outputs": [
    {
     "name": "stdout",
     "output_type": "stream",
     "text": [
      "No model fitted, but file already exists. Importing...\n"
     ]
    },
    {
     "name": "stderr",
     "output_type": "stream",
     "text": [
      "/Users/amc8/miniconda3/envs/bio_output/lib/python3.8/site-packages/sklearn/utils/validation.py:67: FutureWarning: Pass msg=The tfidf vector is not fitted as keyword args. From version 0.25 passing these as positional arguments will result in an error\n",
      "  warnings.warn(\"Pass {} as keyword args. From version 0.25 \"\n"
     ]
    },
    {
     "data": {
      "text/html": [
       "<div>\n",
       "<style scoped>\n",
       "    .dataframe tbody tr th:only-of-type {\n",
       "        vertical-align: middle;\n",
       "    }\n",
       "\n",
       "    .dataframe tbody tr th {\n",
       "        vertical-align: top;\n",
       "    }\n",
       "\n",
       "    .dataframe thead th {\n",
       "        text-align: right;\n",
       "    }\n",
       "</style>\n",
       "<table border=\"1\" class=\"dataframe\">\n",
       "  <thead>\n",
       "    <tr style=\"text-align: right;\">\n",
       "      <th></th>\n",
       "      <th>NE</th>\n",
       "      <th>alias</th>\n",
       "      <th>notes</th>\n",
       "      <th>score</th>\n",
       "    </tr>\n",
       "    <tr>\n",
       "      <th>tokens</th>\n",
       "      <th></th>\n",
       "      <th></th>\n",
       "      <th></th>\n",
       "      <th></th>\n",
       "    </tr>\n",
       "  </thead>\n",
       "  <tbody>\n",
       "    <tr>\n",
       "      <th>replace</th>\n",
       "      <td>S</td>\n",
       "      <td>replace</td>\n",
       "      <td>NaN</td>\n",
       "      <td>0.033502</td>\n",
       "    </tr>\n",
       "    <tr>\n",
       "      <th>bucket</th>\n",
       "      <td>I</td>\n",
       "      <td>bucket</td>\n",
       "      <td>NaN</td>\n",
       "      <td>0.018969</td>\n",
       "    </tr>\n",
       "    <tr>\n",
       "      <th>repair</th>\n",
       "      <td>S</td>\n",
       "      <td>repair</td>\n",
       "      <td>NaN</td>\n",
       "      <td>0.017499</td>\n",
       "    </tr>\n",
       "    <tr>\n",
       "      <th>grease</th>\n",
       "      <td>I</td>\n",
       "      <td>grease</td>\n",
       "      <td>NaN</td>\n",
       "      <td>0.017377</td>\n",
       "    </tr>\n",
       "    <tr>\n",
       "      <th>leak</th>\n",
       "      <td>P</td>\n",
       "      <td>leak</td>\n",
       "      <td>NaN</td>\n",
       "      <td>0.016591</td>\n",
       "    </tr>\n",
       "  </tbody>\n",
       "</table>\n",
       "</div>"
      ],
      "text/plain": [
       "        NE    alias notes     score\n",
       "tokens                             \n",
       "replace  S  replace   NaN  0.033502\n",
       "bucket   I   bucket   NaN  0.018969\n",
       "repair   S   repair   NaN  0.017499\n",
       "grease   I   grease   NaN  0.017377\n",
       "leak     P     leak   NaN  0.016591"
      ]
     },
     "execution_count": 29,
     "metadata": {},
     "output_type": "execute_result"
    }
   ],
   "source": [
    "# Get vocab file (unigrams)\n",
    "vocab_1 = kex.generate_vocabulary_df(\n",
    "      kex.TokenExtractor(),  # doesn't need to be fitted, since vocab exists\n",
    "      filename=Path.home()/'Documents'/'datasets'/'1g_original.csv'\n",
    ")\n",
    "vocab_1.head(5)"
   ]
  },
  {
   "cell_type": "code",
   "execution_count": 30,
   "metadata": {},
   "outputs": [
    {
     "name": "stdout",
     "output_type": "stream",
     "text": [
      "No model fitted, but file already exists. Importing...\n"
     ]
    },
    {
     "name": "stderr",
     "output_type": "stream",
     "text": [
      "/Users/amc8/miniconda3/envs/bio_output/lib/python3.8/site-packages/sklearn/utils/validation.py:67: FutureWarning: Pass msg=The tfidf vector is not fitted as keyword args. From version 0.25 passing these as positional arguments will result in an error\n",
      "  warnings.warn(\"Pass {} as keyword args. From version 0.25 \"\n"
     ]
    },
    {
     "data": {
      "text/html": [
       "<div>\n",
       "<style scoped>\n",
       "    .dataframe tbody tr th:only-of-type {\n",
       "        vertical-align: middle;\n",
       "    }\n",
       "\n",
       "    .dataframe tbody tr th {\n",
       "        vertical-align: top;\n",
       "    }\n",
       "\n",
       "    .dataframe thead th {\n",
       "        text-align: right;\n",
       "    }\n",
       "</style>\n",
       "<table border=\"1\" class=\"dataframe\">\n",
       "  <thead>\n",
       "    <tr style=\"text-align: right;\">\n",
       "      <th></th>\n",
       "      <th>NE</th>\n",
       "      <th>alias</th>\n",
       "      <th>notes</th>\n",
       "      <th>score</th>\n",
       "    </tr>\n",
       "    <tr>\n",
       "      <th>tokens</th>\n",
       "      <th></th>\n",
       "      <th></th>\n",
       "      <th></th>\n",
       "      <th></th>\n",
       "    </tr>\n",
       "  </thead>\n",
       "  <tbody>\n",
       "    <tr>\n",
       "      <th>oil leak</th>\n",
       "      <td>P I</td>\n",
       "      <td>oil leak</td>\n",
       "      <td>NaN</td>\n",
       "      <td>0.012519</td>\n",
       "    </tr>\n",
       "    <tr>\n",
       "      <th>grease line</th>\n",
       "      <td>I</td>\n",
       "      <td>grease_line</td>\n",
       "      <td>NaN</td>\n",
       "      <td>0.008324</td>\n",
       "    </tr>\n",
       "    <tr>\n",
       "      <th>bucket tooth</th>\n",
       "      <td>I</td>\n",
       "      <td>bucket_tooth</td>\n",
       "      <td>NaN</td>\n",
       "      <td>0.006528</td>\n",
       "    </tr>\n",
       "    <tr>\n",
       "      <th>broken grease</th>\n",
       "      <td>P I</td>\n",
       "      <td>broken grease</td>\n",
       "      <td>NaN</td>\n",
       "      <td>0.006921</td>\n",
       "    </tr>\n",
       "    <tr>\n",
       "      <th>jump start</th>\n",
       "      <td>S</td>\n",
       "      <td>jump_start</td>\n",
       "      <td>NaN</td>\n",
       "      <td>0.007049</td>\n",
       "    </tr>\n",
       "  </tbody>\n",
       "</table>\n",
       "</div>"
      ],
      "text/plain": [
       "                NE          alias notes     score\n",
       "tokens                                           \n",
       "oil leak       P I       oil leak   NaN  0.012519\n",
       "grease line      I    grease_line   NaN  0.008324\n",
       "bucket tooth     I   bucket_tooth   NaN  0.006528\n",
       "broken grease  P I  broken grease   NaN  0.006921\n",
       "jump start       S     jump_start   NaN  0.007049"
      ]
     },
     "execution_count": 30,
     "metadata": {},
     "output_type": "execute_result"
    }
   ],
   "source": [
    "# Get vocab file (bigrams)\n",
    "vocab_2 = kex.generate_vocabulary_df(\n",
    "      kex.TokenExtractor(),  # doesn't need to be fitted, since vocab exists\n",
    "      filename=Path.home()/'Documents'/'datasets'/'2g_original.csv'\n",
    ")\n",
    "vocab_2.head(5)"
   ]
  },
  {
   "cell_type": "code",
   "execution_count": 31,
   "metadata": {
    "lines_to_next_cell": 2
   },
   "outputs": [],
   "source": [
    "# merge and cleanse NLP-containing columns of the data\n",
    "nlp_select = kex.NLPSelect(columns=['OriginalShorttext'])\n",
    "raw_text = nlp_select.transform(df)  # Series\n",
    "raw_text = raw_text.head(700)"
   ]
  },
  {
   "cell_type": "code",
   "execution_count": 32,
   "metadata": {
    "lines_to_next_cell": 0
   },
   "outputs": [
    {
     "ename": "AttributeError",
     "evalue": "module 'nestor.keyword' has no attribute 'iob_extractor'",
     "output_type": "error",
     "traceback": [
      "\u001b[0;31m---------------------------------------------------------------------------\u001b[0m",
      "\u001b[0;31mAttributeError\u001b[0m                            Traceback (most recent call last)",
      "\u001b[0;32m<ipython-input-32-703970811645>\u001b[0m in \u001b[0;36m<module>\u001b[0;34m\u001b[0m\n\u001b[1;32m      1\u001b[0m \u001b[0;31m# Use iob_extractor with both 1gram and ngram vocab outputs from Nestor\u001b[0m\u001b[0;34m\u001b[0m\u001b[0;34m\u001b[0m\u001b[0;34m\u001b[0m\u001b[0m\n\u001b[0;32m----> 2\u001b[0;31m \u001b[0miob\u001b[0m \u001b[0;34m=\u001b[0m \u001b[0mkex\u001b[0m\u001b[0;34m.\u001b[0m\u001b[0miob_extractor\u001b[0m\u001b[0;34m(\u001b[0m\u001b[0mraw_text\u001b[0m\u001b[0;34m,\u001b[0m \u001b[0mvocab_1\u001b[0m\u001b[0;34m,\u001b[0m \u001b[0mvocab_df_ngrams\u001b[0m\u001b[0;34m=\u001b[0m\u001b[0mvocab_2\u001b[0m\u001b[0;34m)\u001b[0m\u001b[0;34m\u001b[0m\u001b[0;34m\u001b[0m\u001b[0m\n\u001b[0m\u001b[1;32m      3\u001b[0m \u001b[0miob\u001b[0m\u001b[0;34m\u001b[0m\u001b[0;34m\u001b[0m\u001b[0m\n",
      "\u001b[0;31mAttributeError\u001b[0m: module 'nestor.keyword' has no attribute 'iob_extractor'"
     ]
    }
   ],
   "source": [
    "# Use iob_extractor with both 1gram and ngram vocab outputs from Nestor\n",
    "iob = kex.iob_extractor(raw_text, vocab_1, vocab_df_ngrams=vocab_2)\n",
    "iob"
   ]
  },
  {
   "cell_type": "code",
   "execution_count": null,
   "metadata": {},
   "outputs": [],
   "source": []
  },
  {
   "cell_type": "code",
   "execution_count": null,
   "metadata": {},
   "outputs": [],
   "source": []
  },
  {
   "cell_type": "code",
   "execution_count": null,
   "metadata": {},
   "outputs": [],
   "source": []
  }
 ],
 "metadata": {
  "jupytext": {
   "formats": "ipynb,py:percent"
  },
  "kernelspec": {
   "display_name": "Python [conda env:bio_output]",
   "language": "python",
   "name": "conda-env-bio_output-py"
  },
  "language_info": {
   "codemirror_mode": {
    "name": "ipython",
    "version": 3
   },
   "file_extension": ".py",
   "mimetype": "text/x-python",
   "name": "python",
   "nbconvert_exporter": "python",
   "pygments_lexer": "ipython3",
   "version": "3.8.5"
  }
 },
 "nbformat": 4,
 "nbformat_minor": 4
}
